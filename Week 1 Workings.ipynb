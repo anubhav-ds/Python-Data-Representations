{
 "cells": [
  {
   "cell_type": "markdown",
   "id": "cad0ad4b",
   "metadata": {},
   "source": [
    "## Week 1 Workings"
   ]
  },
  {
   "cell_type": "code",
   "execution_count": 27,
   "id": "73c1695c",
   "metadata": {},
   "outputs": [
    {
     "name": "stdout",
     "output_type": "stream",
     "text": [
      "  Pierre   7\n",
      "    May  13\n"
     ]
    }
   ],
   "source": [
    "name1 = \"Pierre\"\n",
    "age1 = 7\n",
    "name2 = \"May\"\n",
    "age2 = 13\n",
    "\n",
    "line1 = \"{0:>8} {1:>3}\".format(name1, age1)\n",
    "line2 = \"{0:>7} {1:>3}\".format(name2, age2)\n",
    "print(line1)\n",
    "print(line2)"
   ]
  },
  {
   "cell_type": "code",
   "execution_count": 37,
   "id": "5a273aec",
   "metadata": {},
   "outputs": [
    {
     "name": "stdout",
     "output_type": "stream",
     "text": [
      " 3.284   3.284\n"
     ]
    }
   ],
   "source": [
    "num = 3.283663293\n",
    "output = \"{0:^8.3f} {0:.3f}\".format(num)\n",
    "print(output)"
   ]
  },
  {
   "cell_type": "raw",
   "id": "3a9578d7",
   "metadata": {},
   "source": [
    "string1 = It's just a flesh wound\n",
    "string2 = 'It's just a flesh wound'\t\n",
    "string3 = \"\"It's just a flesh wound\"\"\t\n",
    "string4 = \"\"\"It's just a flesh wound\"\n",
    "\n",
    "print(string1)\n",
    "print(string2)\n",
    "print(string3)\n",
    "print(string4)"
   ]
  },
  {
   "cell_type": "code",
   "execution_count": 39,
   "id": "47678f28",
   "metadata": {},
   "outputs": [
    {
     "name": "stdout",
     "output_type": "stream",
     "text": [
      "It's just a flesh wound\n",
      "It's just a flesh wound\n",
      "It's just a flesh wound\n",
      "It's just a flesh wound\n"
     ]
    }
   ],
   "source": [
    "string1 = \"It's just a flesh wound\"\n",
    "string2 = \"It's just a flesh wound\"\n",
    "string3 = \"It's just a flesh wound\"\n",
    "string4 = \"It's just a flesh wound\"\n",
    "\n",
    "print(string1)\n",
    "print(string2)\n",
    "print(string3)\n",
    "print(string4)"
   ]
  },
  {
   "cell_type": "raw",
   "id": "15162d4a",
   "metadata": {},
   "source": [
    "# Create a string formed by selecting the first and last letters of example_string\n",
    "example_string = \"It's just a flesh wound\"\n",
    "print(example_string)\n",
    "\n",
    "solution_string = \"\"\n",
    "print(solution_string)\n",
    "\n",
    "# Output should be \n",
    "#It's just a flesh wound\n",
    "#Id"
   ]
  },
  {
   "cell_type": "code",
   "execution_count": 44,
   "id": "84ee7b1f",
   "metadata": {},
   "outputs": [
    {
     "name": "stdout",
     "output_type": "stream",
     "text": [
      "Id\n"
     ]
    }
   ],
   "source": [
    "solution_string = example_string[0] + example_string[-1]\n",
    "print(solution_string)"
   ]
  },
  {
   "cell_type": "raw",
   "id": "cc2be9cf",
   "metadata": {},
   "source": [
    "# Create a string formed by selecting all but the first and last letters of example_string\n",
    "example_string = \"It's just a flesh wound\"\n",
    "print(example_string)\n",
    "\n",
    "solution_string = \"\"\n",
    "print(solution_string)\n",
    "\n",
    "# Output should be \n",
    "#It's just a flesh wound\n",
    "#t's just a flesh woun"
   ]
  },
  {
   "cell_type": "code",
   "execution_count": 64,
   "id": "8b2ae277",
   "metadata": {},
   "outputs": [
    {
     "name": "stdout",
     "output_type": "stream",
     "text": [
      "t's just a flesh woun\n"
     ]
    }
   ],
   "source": [
    "print(example_string[1:-1])"
   ]
  },
  {
   "cell_type": "raw",
   "id": "10fea5af",
   "metadata": {},
   "source": [
    "# Create a string formed by selecting the first three characters of example_string\n",
    "# plus the last three characters of example_string\n",
    "example_string = \"It's just a flesh wound\"\n",
    "print(example_string)\n",
    "\n",
    "solution_string = \"\"\n",
    "print(solution_string)\n",
    "\n",
    "# Output should be \n",
    "#It's just a flesh wound\n",
    "#It'und"
   ]
  },
  {
   "cell_type": "code",
   "execution_count": 70,
   "id": "92a20154",
   "metadata": {},
   "outputs": [
    {
     "name": "stdout",
     "output_type": "stream",
     "text": [
      "It'und\n"
     ]
    }
   ],
   "source": [
    "print(example_string[0:3] + example_string[-3:])"
   ]
  },
  {
   "cell_type": "raw",
   "id": "95433a48",
   "metadata": {},
   "source": [
    "def echo(call, repeats):\n",
    "    \"\"\"\n",
    "    Echo the string call to the console repeats number of time\n",
    "    Each echo should be on a separate line\n",
    "    \"\"\"\n",
    "    pass\n",
    "\n",
    "\n",
    "# Tests\n",
    "echo(\"Hello\", 5)\n",
    "echo(\"Goodbye\", 3)\n",
    "\n",
    "# Output\n",
    "#Hello\n",
    "#Hello\n",
    "#Hello\n",
    "#Hello\n",
    "#Hello\n",
    "#Goodbye\n",
    "#Goodbye\n",
    "#Goodbye"
   ]
  },
  {
   "cell_type": "code",
   "execution_count": 79,
   "id": "08dbf83d",
   "metadata": {},
   "outputs": [],
   "source": [
    "def echo(call, repeats):\n",
    "    \"\"\"\n",
    "    Print the call n times, on the basis of repeats entered by the user.\n",
    "    \"\"\"\n",
    "    assert repeats > 0\n",
    "    for i in range(repeats):\n",
    "        print(str(call))"
   ]
  },
  {
   "cell_type": "code",
   "execution_count": 80,
   "id": "a7435d64",
   "metadata": {},
   "outputs": [
    {
     "name": "stdout",
     "output_type": "stream",
     "text": [
      "Hello\n",
      "Hello\n",
      "Hello\n",
      "Hello\n",
      "Hello\n",
      "Goodbye\n",
      "Goodbye\n",
      "Goodbye\n"
     ]
    }
   ],
   "source": [
    "echo(\"Hello\", 5)\n",
    "echo(\"Goodbye\", 3)"
   ]
  },
  {
   "cell_type": "raw",
   "id": "c49e6adf",
   "metadata": {},
   "source": [
    "def is_substring(example_string, test_string):\n",
    "    \"\"\"\n",
    "    Function that returns True if test_string\n",
    "    is a substring of example_string and False otherwise\n",
    "    \"\"\"\n",
    "\n",
    "    # enter one line of code for substring test here\n",
    "    pass\n",
    "    \n",
    "\n",
    "# Tests\n",
    "\n",
    "example_string = \"It's just a flesh wound.\"\n",
    "\n",
    "print(is_substring(example_string, \"just\"))\n",
    "print(is_substring(example_string, \"flesh wound\"))\n",
    "print(is_substring(example_string, \"piddog\"))\n",
    "print(is_substring(example_string, \"it's\"))\n",
    "print(is_substring(example_string, \"It's\"))\n",
    "\n",
    "# Output\n",
    "\n",
    "#True\n",
    "#True\n",
    "#False\n",
    "#False\n",
    "#True"
   ]
  },
  {
   "cell_type": "code",
   "execution_count": 100,
   "id": "266ab307",
   "metadata": {},
   "outputs": [],
   "source": [
    "def is_substring(example_string, test_string):\n",
    "    \"\"\"\n",
    "    Function that returns True if test_string\n",
    "    is a substring of example_string and False otherwise\n",
    "    \"\"\"\n",
    "    \n",
    "    #if index of the test_string falls in the range of the length of the example_string we will Return true, else False\n",
    "    \n",
    "    if example_string.find(test_string) in range(len(example_string)):\n",
    "        return True\n",
    "    else:\n",
    "        return False   "
   ]
  },
  {
   "cell_type": "code",
   "execution_count": 101,
   "id": "35729881",
   "metadata": {},
   "outputs": [
    {
     "name": "stdout",
     "output_type": "stream",
     "text": [
      "True\n",
      "True\n",
      "False\n",
      "False\n",
      "True\n"
     ]
    }
   ],
   "source": [
    "example_string = \"It's just a flesh wound.\"\n",
    "\n",
    "print(is_substring(example_string, \"just\"))\n",
    "print(is_substring(example_string, \"flesh wound\"))\n",
    "print(is_substring(example_string, \"piddog\"))\n",
    "print(is_substring(example_string, \"it's\"))\n",
    "print(is_substring(example_string, \"It's\"))"
   ]
  },
  {
   "cell_type": "raw",
   "id": "3ad9a923",
   "metadata": {},
   "source": [
    "def make_nametag(first_name, topic):\n",
    "    \"\"\"\n",
    "    Given two strings first_name and topic,\n",
    "    return a string of the form \"\"Hi! My name \n",
    "    is XXX. This lecture covers YYY.\" where\n",
    "    XXX and YYY are first_name and topic.\n",
    "    \"\"\"\n",
    "    \n",
    "    # enter code here\n",
    "    pass\n",
    "\n",
    "    \n",
    "# Tests\n",
    "\n",
    "print(make_nametag(\"Scott\", \"Python\"))\n",
    "print(make_nametag(\"Joe\", \"games\"))\n",
    "print(make_nametag(\"John\", \"programming tips\"))\n",
    "\n",
    "\n",
    "# Output\n",
    "\n",
    "#Hi! My name is Scott. This lecture covers Python.\n",
    "#Hi! My name is Joe. This lecture covers games.\n",
    "#Hi! My name is John. This lecture covers programming tips."
   ]
  },
  {
   "cell_type": "code",
   "execution_count": 106,
   "id": "1399c15b",
   "metadata": {},
   "outputs": [],
   "source": [
    "def make_nametag(first_name, topic):\n",
    "    \"\"\"\n",
    "    Given two strings first_name and topic,\n",
    "    return a string of the form \"\"Hi! My name \n",
    "    is XXX. This lecture covers YYY.\" where\n",
    "    XXX and YYY are first_name and topic.\n",
    "    \"\"\"\n",
    "    \n",
    "    return \"Hi! My name is {0}. This lecture covers {1}.\".format(first_name, topic)"
   ]
  },
  {
   "cell_type": "code",
   "execution_count": 107,
   "id": "4eaef826",
   "metadata": {},
   "outputs": [
    {
     "name": "stdout",
     "output_type": "stream",
     "text": [
      "Hi! My name is Scott. This lecture covers Python.\n",
      "Hi! My name is Joe. This lecture covers games.\n",
      "Hi! My name is John. This lecture covers programming tips.\n"
     ]
    }
   ],
   "source": [
    "print(make_nametag(\"Scott\", \"Python\"))\n",
    "print(make_nametag(\"Joe\", \"games\"))\n",
    "print(make_nametag(\"John\", \"programming tips\"))"
   ]
  },
  {
   "cell_type": "raw",
   "id": "a9a8dd24",
   "metadata": {},
   "source": [
    "def make_int(int_string):\n",
    "    \"\"\"\n",
    "    Given the string int_string, return the associated integer if all \n",
    "    digits are decimal digits.  Other return -1.\n",
    "    \"\"\"\n",
    "    \n",
    "    # enter code here\n",
    "    pass\n",
    "    \n",
    "# Tests\n",
    "\n",
    "print(make_int(\"123\"))\n",
    "print(make_int(\"00123\"))\n",
    "print(make_int(\"1.23\"))\n",
    "print(make_int(\"-123\"))\n",
    "\n",
    "\n",
    "# Output\n",
    "\n",
    "#123\n",
    "#123\n",
    "#-1\n",
    "#-1"
   ]
  },
  {
   "cell_type": "code",
   "execution_count": 144,
   "id": "fa78f5b8",
   "metadata": {},
   "outputs": [],
   "source": [
    "def make_int(int_string):\n",
    "    \"\"\"\n",
    "    Given the string int_string, return the associated integer if all \n",
    "    digits are decimal digits.  Other return -1.\n",
    "    \"\"\"\n",
    "    \n",
    "    #isnumeric returns true for 0 and other non negative integers, the code below will return the -1 if it's False, \n",
    "    #and the number if it's True.\n",
    "    \n",
    "    if int_string.isnumeric() is False:\n",
    "        return -1\n",
    "    else:\n",
    "        return int(int_string)"
   ]
  },
  {
   "cell_type": "code",
   "execution_count": 145,
   "id": "bf86b1f5",
   "metadata": {},
   "outputs": [
    {
     "name": "stdout",
     "output_type": "stream",
     "text": [
      "123\n",
      "123\n",
      "-1\n",
      "-1\n"
     ]
    }
   ],
   "source": [
    "print(make_int(\"123\"))\n",
    "print(make_int(\"00123\"))\n",
    "print(make_int(\"1.23\"))\n",
    "print(make_int(\"-123\"))"
   ]
  },
  {
   "cell_type": "code",
   "execution_count": 146,
   "id": "b61ba2c4",
   "metadata": {},
   "outputs": [
    {
     "data": {
      "text/plain": [
       "True"
      ]
     },
     "execution_count": 146,
     "metadata": {},
     "output_type": "execute_result"
    }
   ],
   "source": [
    "\"0\".isnumeric()"
   ]
  },
  {
   "cell_type": "raw",
   "id": "c1a53f28",
   "metadata": {},
   "source": [
    "def name_swap(name_string):\n",
    "    \"\"\"\n",
    "    Given the string name string of the form \"first last\", return \n",
    "    the string \"Last First\" where both names are now capitalized\n",
    "    \"\"\"\n",
    "    \n",
    "    # Enter code here\n",
    "    pass\n",
    "    \n",
    "# Tests\n",
    "\n",
    "print(name_swap(\"joe warren\"))\n",
    "print(name_swap(\"scott rixner\"))\n",
    "print(name_swap(\"john greiner\"))\n",
    "\n",
    "\n",
    "# Output\n",
    "\n",
    "#Warren Joe\n",
    "#Rixner Scott\n",
    "#Greiner John"
   ]
  },
  {
   "cell_type": "code",
   "execution_count": 163,
   "id": "073f3e7c",
   "metadata": {},
   "outputs": [],
   "source": [
    "def name_swap(name_string):\n",
    "    \"\"\"\n",
    "    Given the string name string of the form \"first last\", return \n",
    "    the string \"Last First\" where both names are now capitalized\n",
    "    \"\"\"\n",
    "    \n",
    "    return name_string[name_string.find(\" \")+1:].capitalize() + \" \" + name_string[0:name_string.find(\" \")].capitalize()"
   ]
  },
  {
   "cell_type": "code",
   "execution_count": 165,
   "id": "5657101b",
   "metadata": {},
   "outputs": [
    {
     "name": "stdout",
     "output_type": "stream",
     "text": [
      "Warren Joe\n",
      "Rixner Scott\n",
      "Greiner John\n"
     ]
    }
   ],
   "source": [
    "print(name_swap(\"joe warren\"))\n",
    "print(name_swap(\"scott rixner\"))\n",
    "print(name_swap(\"john greiner\"))"
   ]
  },
  {
   "cell_type": "code",
   "execution_count": 174,
   "id": "1ccba1d3",
   "metadata": {},
   "outputs": [],
   "source": [
    "def count_vowels(string):\n",
    "    return string.count(\"a\") + string.count(\"e\") + string.count(\"i\") + string.count(\"o\") + string.count(\"u\")"
   ]
  },
  {
   "cell_type": "code",
   "execution_count": 175,
   "id": "639fca1a",
   "metadata": {},
   "outputs": [
    {
     "name": "stdout",
     "output_type": "stream",
     "text": [
      "13\n",
      "17\n"
     ]
    }
   ],
   "source": [
    "print(count_vowels(\"aaassseefffgggiiijjjoOOkkkuuuu\"))\n",
    "print(count_vowels(\"aovvouOucvicIIOveeOIclOeuvvauouuvciOIsle\"))"
   ]
  },
  {
   "cell_type": "code",
   "execution_count": 192,
   "id": "45f23050",
   "metadata": {},
   "outputs": [],
   "source": [
    "def demystify(l1_string):\n",
    "    assert \"l\" in l1_string\n",
    "    assert \"1\" in l1_string\n",
    "    \n",
    "    #We will use maketrans to make a table which maps the ASCII code for  l,1 with a,b and \n",
    "    #then feed the resulting table to the translate function which translate the main string on the basis of this new mapping.\n",
    "    \n",
    "    return l1_string.translate(\"\".maketrans(\"l1\",\"ab\"))"
   ]
  },
  {
   "cell_type": "code",
   "execution_count": 195,
   "id": "4c245d32",
   "metadata": {},
   "outputs": [
    {
     "name": "stdout",
     "output_type": "stream",
     "text": [
      "aaabbbabababbbbaaa\n",
      "bbbababbabbaaabaaabaaabbbbbaabbabaababbb\n"
     ]
    }
   ],
   "source": [
    "print(demystify(\"lll111l1l1l1111lll\"))\n",
    "print(demystify(\"111l1l11l11lll1lll1lll11111ll11l1ll1l111\"))"
   ]
  }
 ],
 "metadata": {
  "kernelspec": {
   "display_name": "Python 3 (ipykernel)",
   "language": "python",
   "name": "python3"
  },
  "language_info": {
   "codemirror_mode": {
    "name": "ipython",
    "version": 3
   },
   "file_extension": ".py",
   "mimetype": "text/x-python",
   "name": "python",
   "nbconvert_exporter": "python",
   "pygments_lexer": "ipython3",
   "version": "3.7.4"
  }
 },
 "nbformat": 4,
 "nbformat_minor": 5
}
